{
  "nbformat": 4,
  "nbformat_minor": 0,
  "metadata": {
    "colab": {
      "provenance": []
    },
    "kernelspec": {
      "name": "python3",
      "display_name": "Python 3"
    },
    "language_info": {
      "name": "python"
    }
  },
  "cells": [
    {
      "cell_type": "markdown",
      "source": [
        "## **GEO 441B/541B Week 1 Assignment: Introduction to ArcGIS Pro GUI**"
      ],
      "metadata": {
        "id": "C0ymCPR5aSHN"
      }
    },
    {
      "cell_type": "markdown",
      "source": [
        "🚀 Created by Hera Dashnyam\n",
        "\n",
        "02/11/2025"
      ],
      "metadata": {
        "id": "Pt_OREXFPvkr"
      }
    },
    {
      "cell_type": "markdown",
      "source": [
        "### **Map #1: Cloquet Forestry Center**\n",
        "\n",
        "1. **Instructions**\n",
        "   - Follow mapping instructions from [this Canvas file](https://miamioh.instructure.com/courses/227178/files/34576429?wrap=1)\n",
        "   - Mapping instructions are adapted from *Lab 1: Introduction to ArcGIS Pro* in [GIS Fundamentals Resources page](https://www.gisfundamentals.org/resources)\n",
        "\n",
        "2. **Share map**\n",
        "   - Check if you have your second map (*Cloquet Forestry Center*) generated following the direction in a Google Drive folder\n",
        "   - Make sure the PNG file is accessible to anyone with a link\n",
        "   - Copy the shareable link\n",
        "\n"
      ],
      "metadata": {
        "id": "ELaaF_lUQLBp"
      }
    },
    {
      "cell_type": "markdown",
      "source": [
        "3. **Obtain a shareable link**\n",
        "\n",
        "  - Double-click the text cell below and paste the shareable link"
      ],
      "metadata": {
        "id": "GQAprjsWQXUW"
      }
    },
    {
      "cell_type": "markdown",
      "source": [
        "https://drive.google.com/file/d/1d4HxeS8DgLJdaiuSEymU7y9UUuhAVQbg/view?usp=sharing"
      ],
      "metadata": {
        "id": "gtn5cx2PQZav"
      }
    },
    {
      "cell_type": "markdown",
      "source": [
        "  4. **Edit link for picture rendering**\n",
        "    - Copy the shareable link and paste to the empty text cell below\n",
        "    - Delete **`/view?usp=sharing`** at the end of the link\n",
        "    - Replace **`/file/d/`** with **`/uc?export=view&id=`**\n"
      ],
      "metadata": {
        "id": "MogYL7zdQd7A"
      }
    },
    {
      "cell_type": "markdown",
      "source": [
        "https://drive.google.com/uc?export=view&id=1d4HxeS8DgLJdaiuSEymU7y9UUuhAVQbg"
      ],
      "metadata": {
        "id": "b8F38D4aQgc0"
      }
    },
    {
      "cell_type": "markdown",
      "source": [
        "5. **Insert Map**\n",
        "  - Copy `![map](link)` and paste to the text cell below\n",
        "  - Replace `link` with the link you get after Step 4\n",
        "  - After this step, you should see your map correctly displayed below"
      ],
      "metadata": {
        "id": "E33bTZ30QoVO"
      }
    },
    {
      "cell_type": "markdown",
      "source": [
        "![map](https://drive.google.com/uc?export=view&id=1d4HxeS8DgLJdaiuSEymU7y9UUuhAVQbg)"
      ],
      "metadata": {
        "id": "ib9ho-5YQqO3"
      }
    },
    {
      "cell_type": "markdown",
      "source": [
        "### **Map #2: Cloquet Vegetation Polygons**\n",
        "\n",
        "1. **Instructions**\n",
        "   - Follow mapping instructions from [this Canvas file](https://miamioh.instructure.com/courses/227178/files/34576429?wrap=1)\n",
        "   - Mapping instructions are adapted from *Lab 1: Introduction to ArcGIS Pro* in [GIS Fundamentals Resources page](https://www.gisfundamentals.org/resources)\n",
        "\n",
        "2. **Share map**\n",
        "   - Check if you have your third map (*Cloquet Vegetation Polygons*) generated following the direction in a Google Drive folder\n",
        "   - Make sure the PNG file is accessible to anyone with a link\n",
        "   - Copy the shareable link\n",
        "\n"
      ],
      "metadata": {
        "id": "ngOe9Si4Q6ac"
      }
    },
    {
      "cell_type": "markdown",
      "source": [
        "3. **Obtain a shareable link**\n",
        "\n",
        "  - Double-click the text cell below and paste the shareable link"
      ],
      "metadata": {
        "id": "fblAomuDRHwA"
      }
    },
    {
      "cell_type": "markdown",
      "source": [
        "https://drive.google.com/file/d/1niV1z4d9Ujs4aENRddas5llc7TPf-XnJ/view?usp=sharing"
      ],
      "metadata": {
        "id": "R1DcfpHfRKDf"
      }
    },
    {
      "cell_type": "markdown",
      "source": [
        "  4. **Edit link for picture rendering**\n",
        "    - Copy the shareable link and paste to the empty text cell below\n",
        "    - Delete **`/view?usp=sharing`** at the end of the link\n",
        "    - Replace **`/file/d/`** with **`/uc?export=view&id=`**\n"
      ],
      "metadata": {
        "id": "plDVZdi-RMFU"
      }
    },
    {
      "cell_type": "markdown",
      "source": [
        "https://drive.google.com/uc?export=view&id=1niV1z4d9Ujs4aENRddas5llc7TPf-XnJ"
      ],
      "metadata": {
        "id": "IwsXXUyfRN7u"
      }
    },
    {
      "cell_type": "markdown",
      "source": [
        "5. **Insert Map**\n",
        "  - Copy `![map](link)` and paste to the text cell below\n",
        "  - Replace `link` with the link you get after Step 4\n",
        "  - After this step, you should see your map correctly displayed below"
      ],
      "metadata": {
        "id": "om3DrlJlRQrL"
      }
    },
    {
      "cell_type": "markdown",
      "source": [
        "![map](https://drive.google.com/uc?export=view&id=1niV1z4d9Ujs4aENRddas5llc7TPf-XnJ)"
      ],
      "metadata": {
        "id": "IfA0YwENRTzx"
      }
    },
    {
      "cell_type": "markdown",
      "source": [
        "### **Reflection on my first experience with ArcGIS Pro**\n",
        "\n",
        "- Overall, I spent an hour and a half to finish creating all three maps"
      ],
      "metadata": {
        "id": "i4RTLellbUh7"
      }
    }
  ]
}